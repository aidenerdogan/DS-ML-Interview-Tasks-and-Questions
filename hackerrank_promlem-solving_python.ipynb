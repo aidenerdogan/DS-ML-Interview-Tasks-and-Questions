{
 "cells": [
  {
   "cell_type": "code",
   "execution_count": 1,
   "metadata": {},
   "outputs": [
    {
     "name": "stdout",
     "output_type": "stream",
     "text": [
      "10 14\n"
     ]
    }
   ],
   "source": [
    "# mini-max sum\n",
    "\n",
    "#!/bin/python3\n",
    "\n",
    "import math\n",
    "import os\n",
    "import random\n",
    "import re\n",
    "import sys\n",
    "\n",
    "#\n",
    "# Complete the 'miniMaxSum' function below.\n",
    "#\n",
    "# The function accepts INTEGER_ARRAY arr as parameter.\n",
    "#\n",
    "\n",
    "def miniMaxSum(arr):\n",
    "    # Write your code here\n",
    "    #sol1\n",
    "    #print(sum(sorted(arr)[:-1]), sum(sorted(arr[1:])))\n",
    "    \n",
    "    #sol2\n",
    "    mini = min(arr)\n",
    "    maxi = max(arr)\n",
    "\n",
    "    mini_sum = sum(arr) - maxi\n",
    "    maxi_sum= sum(arr)-mini\n",
    "\n",
    "    print(mini_sum, maxi_sum)\n",
    "\n",
    "    #my_sol\n",
    "    '''sums = []\n",
    "    for i in range(len(arr)):\n",
    "        print(i)\n",
    "        sums.append(sum(arr)-arr[i])\n",
    "        print(sums)\n",
    "    print(min(sums),max(sums))'''\n",
    "    #print(sum(arr[1:]))\n",
    "\n",
    "if __name__ == '__main__':\n",
    "\n",
    "    arr = [1,2,3,4,5]\n",
    "\n",
    "    miniMaxSum(arr)\n"
   ]
  },
  {
   "cell_type": "code",
   "execution_count": 11,
   "metadata": {},
   "outputs": [
    {
     "name": "stdout",
     "output_type": "stream",
     "text": [
      "2\n"
     ]
    }
   ],
   "source": [
    "#birthday cake candles\n",
    "\n",
    "#!/bin/python3\n",
    "\n",
    "import math\n",
    "import os\n",
    "import random\n",
    "import re\n",
    "import sys\n",
    "\n",
    "#\n",
    "# Complete the 'birthdayCakeCandles' function below.\n",
    "#\n",
    "# The function is expected to return an INTEGER.\n",
    "# The function accepts INTEGER_ARRAY candles as parameter.\n",
    "#\n",
    "\n",
    "def birthdayCakeCandles(candles):\n",
    "    # Write your code here\n",
    "    max_v = max(candles)\n",
    "    counter = 0\n",
    "    for val in candles:\n",
    "        if val == max_v:\n",
    "            counter += 1\n",
    "    return counter\n",
    "    \n",
    "\n",
    "if __name__ == '__main__':\n",
    "\n",
    "    candles_count = 4\n",
    "\n",
    "    candles = [3,2,1,3]\n",
    "\n",
    "    result = birthdayCakeCandles(candles)\n",
    "    print(result)\n"
   ]
  },
  {
   "cell_type": "code",
   "execution_count": 35,
   "metadata": {},
   "outputs": [
    {
     "name": "stdout",
     "output_type": "stream",
     "text": [
      "00:05:45\n"
     ]
    }
   ],
   "source": [
    "#TimeConversation\n",
    "\n",
    "#!/bin/python3\n",
    "\n",
    "import math\n",
    "import os\n",
    "import random\n",
    "import re\n",
    "import sys\n",
    "\n",
    "#\n",
    "# Complete the 'timeConversion' function below.\n",
    "#\n",
    "# The function is expected to return a STRING.\n",
    "# The function accepts STRING s as parameter.\n",
    "#\n",
    "\n",
    "def timeConversion(s):\n",
    "    # Write your code here\n",
    "    if s[:2] == '12':\n",
    "        if s[-2:] == 'PM':\n",
    "            return s[:-2]\n",
    "        elif s[-2:] == 'AM':\n",
    "            s = '00'+s[2:-2]\n",
    "            return s\n",
    "    else:\n",
    "        if s[-2:] == 'PM':\n",
    "            s = str(int(s[:2])+12)+s[2:-2]\n",
    "            return s\n",
    "        elif s[-2:] == 'AM':\n",
    "            return s[:-2]\n",
    "\n",
    "\n",
    "\n",
    "\n",
    "\n",
    "\n",
    "\n",
    "if __name__ == '__main__':\n",
    "\n",
    "    s = input()\n",
    "    result = timeConversion(s)\n",
    "    print(result)"
   ]
  },
  {
   "cell_type": "code",
   "execution_count": 52,
   "metadata": {},
   "outputs": [
    {
     "name": "stdout",
     "output_type": "stream",
     "text": [
      "75\n",
      "67\n",
      "40\n",
      "33\n"
     ]
    }
   ],
   "source": [
    "#Grading Students \n",
    "#\n",
    "# #!/bin/python3\n",
    "\n",
    "import math\n",
    "import os\n",
    "import random\n",
    "import re\n",
    "import sys\n",
    "\n",
    "#\n",
    "# Complete the 'gradingStudents' function below.\n",
    "#\n",
    "# The function is expected to return an INTEGER_ARRAY.\n",
    "# The function accepts INTEGER_ARRAY grades as parameter.\n",
    "#\n",
    "\n",
    "def gradingStudents(grades):\n",
    "    # Write your code here\n",
    "    for i in range(len(grades)):\n",
    "        nex_5 = grades[i] + (5 - grades[i]) % 5\n",
    "        if grades[i] >= 38 and nex_5 - grades[i] <= 2:\n",
    "            grades[i] = grades[i] + (5 - grades[i]) % 5\n",
    "    return grades\n",
    "\n",
    "if __name__ == '__main__':\n",
    "\n",
    "    grades = [73,67,38,33]\n",
    "\n",
    "    result = gradingStudents(grades)\n",
    "    for i in result:\n",
    "        print(i)\n"
   ]
  },
  {
   "cell_type": "code",
   "execution_count": 50,
   "metadata": {},
   "outputs": [
    {
     "ename": "TypeError",
     "evalue": "'list' object cannot be interpreted as an integer",
     "output_type": "error",
     "traceback": [
      "\u001b[0;31m---------------------------------------------------------------------------\u001b[0m",
      "\u001b[0;31mTypeError\u001b[0m                                 Traceback (most recent call last)",
      "\u001b[1;32m/Users/ahmeterdogan/Desktop/Home Price Prediction/hackerrank.ipynb Cell 5\u001b[0m in \u001b[0;36m<cell line: 3>\u001b[0;34m()\u001b[0m\n\u001b[1;32m      <a href='vscode-notebook-cell:/Users/ahmeterdogan/Desktop/Home%20Price%20Prediction/hackerrank.ipynb#ch0000003?line=0'>1</a>\u001b[0m grades \u001b[39m=\u001b[39m [\u001b[39m73\u001b[39m,\u001b[39m67\u001b[39m,\u001b[39m38\u001b[39m,\u001b[39m33\u001b[39m]\n\u001b[0;32m----> <a href='vscode-notebook-cell:/Users/ahmeterdogan/Desktop/Home%20Price%20Prediction/hackerrank.ipynb#ch0000003?line=2'>3</a>\u001b[0m \u001b[39mfor\u001b[39;00m i, val \u001b[39min\u001b[39;00m  \u001b[39mrange\u001b[39;49m(grades):\n\u001b[1;32m      <a href='vscode-notebook-cell:/Users/ahmeterdogan/Desktop/Home%20Price%20Prediction/hackerrank.ipynb#ch0000003?line=3'>4</a>\u001b[0m     \u001b[39mprint\u001b[39m(grades[val])\n",
      "\u001b[0;31mTypeError\u001b[0m: 'list' object cannot be interpreted as an integer"
     ]
    }
   ],
   "source": [
    "grades = [73,67,38,33]\n",
    "\n",
    "for i, val in  range(grades):\n",
    "    print(grades[val])\n",
    "    "
   ]
  },
  {
   "cell_type": "code",
   "execution_count": 40,
   "metadata": {},
   "outputs": [
    {
     "data": {
      "text/plain": [
       "30"
      ]
     },
     "execution_count": 40,
     "metadata": {},
     "output_type": "execute_result"
    }
   ],
   "source": [
    "import math\n",
    "def round_to_next5(n):\n",
    "    return math.ceil(n/5.0) * 5\n",
    "round_to_next5(30)"
   ]
  },
  {
   "cell_type": "code",
   "execution_count": 44,
   "metadata": {},
   "outputs": [
    {
     "data": {
      "text/plain": [
       "20"
      ]
     },
     "execution_count": 44,
     "metadata": {},
     "output_type": "execute_result"
    }
   ],
   "source": [
    "5 * round(22 / 5)"
   ]
  },
  {
   "cell_type": "code",
   "execution_count": 2,
   "metadata": {},
   "outputs": [
    {
     "name": "stdout",
     "output_type": "stream",
     "text": [
      "dict_keys(['(', '[', '{'])\n"
     ]
    }
   ],
   "source": [
    "chars = {\"(\":\")\", \"[\":\"]\", \"{\":\"}\"}\n",
    "print(chars.keys())"
   ]
  },
  {
   "cell_type": "code",
   "execution_count": 5,
   "metadata": {},
   "outputs": [
    {
     "name": "stdout",
     "output_type": "stream",
     "text": [
      "[1, 1, 2, 3, 4, 4]\n"
     ]
    }
   ],
   "source": [
    "# Definition for singly-linked list.\n",
    "# class ListNode:\n",
    "#     def __init__(self, val=0, next=None):\n",
    "#         self.val = val\n",
    "#         self.next = next\n",
    "class Solution:\n",
    "    def mergeTwoLists(self, list1: [], list2: []) -> []:\n",
    "        l1 = list1\n",
    "        l2 = list2\n",
    "        for i in l1:\n",
    "            l2.append(i)\n",
    "        return sorted(l2)\n",
    "    \n",
    "    \n",
    "if __name__ == \"__main__\":\n",
    "    class_obj = Solution()\n",
    "    list1 = [1,2,4]\n",
    "    list2 = [1,3,4]\n",
    "    result = class_obj.mergeTwoLists(list1, list2)\n",
    "    print(result)"
   ]
  },
  {
   "cell_type": "code",
   "execution_count": 13,
   "metadata": {},
   "outputs": [
    {
     "name": "stdout",
     "output_type": "stream",
     "text": [
      "5\n"
     ]
    }
   ],
   "source": [
    "if __name__ == '__main__':\n",
    "\n",
    "\n",
    "    #n = int(input())\n",
    "    #arr = map(int, input().split())\n",
    "    #arr = list(arr)\n",
    "\n",
    "    n = 5\n",
    "    arr = [2, 3, 6, 6, 5]\n",
    "\n",
    "    arr.sort(reverse = True)\n",
    "\n",
    "    max_val = max(arr)\n",
    "    for i in arr:\n",
    "        if i == max_val:\n",
    "            pass\n",
    "        else:\n",
    "            print(i)\n",
    "            break"
   ]
  },
  {
   "cell_type": "markdown",
   "metadata": {},
   "source": [
    "# [Apple and Orange question](https://www.hackerrank.com/challenges/apple-and-orange/problem)"
   ]
  },
  {
   "cell_type": "code",
   "execution_count": null,
   "metadata": {},
   "outputs": [],
   "source": [
    "# my solution \n",
    "#!/bin/python3\n",
    "\n",
    "import math\n",
    "import os\n",
    "import random\n",
    "import re\n",
    "import sys\n",
    "\n",
    "#\n",
    "# Complete the 'countApplesAndOranges' function below.\n",
    "#\n",
    "# The function accepts following parameters:\n",
    "#  1. INTEGER s\n",
    "#  2. INTEGER t\n",
    "#  3. INTEGER a\n",
    "#  4. INTEGER b\n",
    "#  5. INTEGER_ARRAY apples\n",
    "#  6. INTEGER_ARRAY oranges\n",
    "#\n",
    "\n",
    "def countApplesAndOranges(s, t, a, b, apples, oranges):\n",
    "    # Write your code here\n",
    "    count_Apples = 0\n",
    "    count_Oranges= 0\n",
    "    for i in range(len(apples)):\n",
    "        if a+apples[i] >= s and a+apples[i] <= t:\n",
    "            count_Apples +=1\n",
    "    for i in range(len(oranges)):\n",
    "        if b+oranges[i] >= s and b+oranges[i] <=t:\n",
    "            count_Oranges +=1\n",
    "    print(count_Apples)\n",
    "    print(count_Oranges)\n",
    "        \n",
    "\n",
    "if __name__ == '__main__':\n",
    "    first_multiple_input = input().rstrip().split()\n",
    "\n",
    "    s = int(first_multiple_input[0])\n",
    "\n",
    "    t = int(first_multiple_input[1])\n",
    "\n",
    "    second_multiple_input = input().rstrip().split()\n",
    "\n",
    "    a = int(second_multiple_input[0])\n",
    "\n",
    "    b = int(second_multiple_input[1])\n",
    "\n",
    "    third_multiple_input = input().rstrip().split()\n",
    "\n",
    "    m = int(third_multiple_input[0])\n",
    "\n",
    "    n = int(third_multiple_input[1])\n",
    "\n",
    "    apples = list(map(int, input().rstrip().split()))\n",
    "\n",
    "    oranges = list(map(int, input().rstrip().split()))\n",
    "\n",
    "    countApplesAndOranges(s, t, a, b, apples, oranges)\n"
   ]
  }
 ],
 "metadata": {
  "kernelspec": {
   "display_name": "Python 3.10.6 64-bit",
   "language": "python",
   "name": "python3"
  },
  "language_info": {
   "codemirror_mode": {
    "name": "ipython",
    "version": 3
   },
   "file_extension": ".py",
   "mimetype": "text/x-python",
   "name": "python",
   "nbconvert_exporter": "python",
   "pygments_lexer": "ipython3",
   "version": "3.10.6"
  },
  "orig_nbformat": 4,
  "vscode": {
   "interpreter": {
    "hash": "aee8b7b246df8f9039afb4144a1f6fd8d2ca17a180786b69acc140d282b71a49"
   }
  }
 },
 "nbformat": 4,
 "nbformat_minor": 2
}
